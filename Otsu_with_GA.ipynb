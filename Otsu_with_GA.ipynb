{
 "cells": [
  {
   "cell_type": "code",
   "execution_count": 2,
   "metadata": {},
   "outputs": [],
   "source": [
    "import random"
   ]
  },
  {
   "cell_type": "code",
   "execution_count": 13,
   "metadata": {},
   "outputs": [],
   "source": [
    "POP_SIZE = 500\n",
    "MUT_RATE = 0.1\n",
    "TARGET = 'abdullah ali'\n",
    "GENES = ' abcdefghijklmnopqrstuvwxyz'"
   ]
  },
  {
   "cell_type": "code",
   "execution_count": 14,
   "metadata": {},
   "outputs": [],
   "source": [
    "def initialize_pop(TARGET):\n",
    "  population = list()\n",
    "  tar_len = len(TARGET)\n",
    "\n",
    "  for i in range(POP_SIZE):\n",
    "      temp = list()\n",
    "      for j in range(tar_len):\n",
    "          temp.append(random.choice(GENES))\n",
    "      population.append(temp)\n",
    "\n",
    "  return population"
   ]
  },
  {
   "cell_type": "code",
   "execution_count": 15,
   "metadata": {},
   "outputs": [],
   "source": [
    "def fitness_cal(TARGET, chromo_from_pop):\n",
    "  difference = 0\n",
    "  for tar_char, chromo_char in zip(TARGET, chromo_from_pop):\n",
    "      if tar_char != chromo_char:\n",
    "          difference+=1 \n",
    "  return [chromo_from_pop, difference]"
   ]
  },
  {
   "cell_type": "code",
   "execution_count": 16,
   "metadata": {},
   "outputs": [],
   "source": [
    "def selection(population, TARGET):\n",
    "  sorted_chromo_pop = sorted(population, key= lambda x: x[1])\n",
    "  return sorted_chromo_pop[:int(0.5*POP_SIZE)]"
   ]
  },
  {
   "cell_type": "code",
   "execution_count": 17,
   "metadata": {},
   "outputs": [],
   "source": [
    "def crossover(selected_chromo, CHROMO_LEN, population):\n",
    "  offspring_cross = []\n",
    "  for i in range(int(POP_SIZE)):\n",
    "    parent1 = random.choice(selected_chromo)\n",
    "    parent2 = random.choice(population[:int(POP_SIZE*50)])\n",
    "\n",
    "    p1 = parent1[0]\n",
    "    p2 = parent2[0]\n",
    "\n",
    "    crossover_point = random.randint(1, CHROMO_LEN-1)\n",
    "    child =  p1[:crossover_point] + p2[crossover_point:]\n",
    "    offspring_cross.extend([child])\n",
    "  return offspring_cross"
   ]
  },
  {
   "cell_type": "code",
   "execution_count": 18,
   "metadata": {},
   "outputs": [],
   "source": [
    "def mutate(offspring, MUT_RATE):\n",
    "  mutated_offspring = []\n",
    "\n",
    "  for arr in offspring:\n",
    "      for i in range(len(arr)):\n",
    "          if random.random() < MUT_RATE:\n",
    "              arr[i] = random.choice(GENES)\n",
    "      mutated_offspring.append(arr)\n",
    "  return mutated_offspring"
   ]
  },
  {
   "cell_type": "code",
   "execution_count": 19,
   "metadata": {},
   "outputs": [],
   "source": [
    "def replace(new_gen, population):\n",
    "  for _ in range(len(population)):\n",
    "      if population[_][1] > new_gen[_][1]:\n",
    "        population[_][0] = new_gen[_][0]\n",
    "        population[_][1] = new_gen[_][1]\n",
    "  return population"
   ]
  },
  {
   "cell_type": "code",
   "execution_count": 21,
   "metadata": {},
   "outputs": [
    {
     "name": "stdout",
     "output_type": "stream",
     "text": [
      "String: ['a', 'b', 'w', 'x', 'p', 'b', 'q', 'u', 'f', 's', 'l', 'b'] Generation: 1 Fitness: 9\n",
      "String: ['a', 'b', 'w', 'x', 'p', 'b', 'q', 'u', 'f', 's', 'l', 'b'] Generation: 2 Fitness: 9\n",
      "String: ['a', 't', 'd', 'u', 'e', 'r', 't', 'h', 't', 'n', 'g', 'r'] Generation: 3 Fitness: 8\n",
      "String: ['a', 't', 'd', 'u', 'e', 'r', 't', 'h', 't', 'n', 'g', 'r'] Generation: 4 Fitness: 8\n",
      "String: ['b', 'b', 'd', 'i', 'l', 'l', 'v', 'h', 'w', 'u', 'e', 'b'] Generation: 5 Fitness: 7\n",
      "String: ['b', 'b', 'd', 'i', 'l', 'l', 'v', 'h', 'w', 'u', 'e', 'b'] Generation: 6 Fitness: 7\n",
      "String: ['g', 'b', 'd', 'q', 'x', 'g', 'k', 'g', ' ', 'a', 'l', 'i'] Generation: 7 Fitness: 6\n",
      "String: ['g', 'b', 'd', 'q', 'x', 'g', 'k', 'g', ' ', 'a', 'l', 'i'] Generation: 8 Fitness: 6\n",
      "String: ['a', 'b', 's', 'u', 's', 'l', 'a', 'g', ' ', 'a', 'f', ' '] Generation: 9 Fitness: 5\n",
      "String: ['a', 'b', 'd', 'u', 'y', 'l', 'y', 'g', ' ', 'a', 'l', 'w'] Generation: 10 Fitness: 4\n",
      "String: ['a', 'b', 'd', 'u', 's', 'l', 'a', 'h', ' ', 'g', 'l', 's'] Generation: 11 Fitness: 3\n",
      "String: ['a', 'b', 'd', 'u', 's', 'l', 'o', 'h', ' ', 'a', 'l', 'i'] Generation: 12 Fitness: 2\n",
      "String: ['a', 'b', 'd', 'u', 's', 'l', 'o', 'h', ' ', 'a', 'l', 'i'] Generation: 13 Fitness: 2\n",
      "String: ['a', 'b', 'd', 'u', 's', 'l', 'o', 'h', ' ', 'a', 'l', 'i'] Generation: 14 Fitness: 2\n",
      "String: ['a', 'b', 'd', 'u', 's', 'l', 'o', 'h', ' ', 'a', 'l', 'i'] Generation: 15 Fitness: 2\n",
      "String: ['a', 'b', 'd', 'u', 'l', 'l', 'o', 'h', ' ', 'a', 'l', 'i'] Generation: 16 Fitness: 1\n",
      "String: ['a', 'b', 'd', 'u', 'l', 'l', 'o', 'h', ' ', 'a', 'l', 'i'] Generation: 17 Fitness: 1\n",
      "String: ['a', 'b', 'd', 'u', 'l', 'l', 'o', 'h', ' ', 'a', 'l', 'i'] Generation: 18 Fitness: 1\n",
      "String: ['a', 'b', 'd', 'u', 'l', 'l', 'o', 'h', ' ', 'a', 'l', 'i'] Generation: 19 Fitness: 1\n",
      "Target found\n",
      "String: ['a', 'b', 'd', 'u', 'l', 'l', 'a', 'h', ' ', 'a', 'l', 'i'] Generation: 20 Fitness: 0\n"
     ]
    }
   ],
   "source": [
    "def main(POP_SIZE, MUT_RATE, TARGET, GENES):\n",
    "    # 1) initialize population\n",
    "    initial_population = initialize_pop(TARGET)\n",
    "    found = False\n",
    "    population = []\n",
    "    generation = 1\n",
    "\n",
    "    # 2) Calculating the fitness for the current population\n",
    "    for _ in range(len(initial_population)):\n",
    "        population.append(fitness_cal(TARGET, initial_population[_]))\n",
    "\n",
    "    # now population has 2 things, [chromosome, fitness]\n",
    "    # 3) now we loop until TARGET is found\n",
    "    while not found:\n",
    "\n",
    "      # 3.1) select best people from current population\n",
    "      selected = selection(population, TARGET)\n",
    "\n",
    "      # 3.2) mate parents to make new generation\n",
    "      population = sorted(population, key= lambda x:x[1])\n",
    "      crossovered = crossover(selected, len(TARGET), population)\n",
    "            \n",
    "      # 3.3) mutating the childeren to diversfy the new generation\n",
    "      mutated = mutate(crossovered, MUT_RATE)\n",
    "\n",
    "      new_gen = []\n",
    "      for _ in mutated:\n",
    "          new_gen.append(fitness_cal(TARGET, _))\n",
    "\n",
    "      # 3.4) replacement of bad population with new generation\n",
    "      # we sort here first to compare the least fit population with the most fit new_gen\n",
    "\n",
    "      population = replace(new_gen, population)\n",
    "\n",
    "      \n",
    "      if (population[0][1] == 0):\n",
    "        print('Target found')\n",
    "        print('String: ' + str(population[0][0]) + ' Generation: ' + str(generation) + ' Fitness: ' + str(population[0][1]))\n",
    "        break\n",
    "      print('String: ' + str(population[0][0]) + ' Generation: ' + str(generation) + ' Fitness: ' + str(population[0][1]))\n",
    "      generation+=1\n",
    "\n",
    "main(POP_SIZE, MUT_RATE, TARGET, GENES)"
   ]
  },
  {
   "cell_type": "code",
   "execution_count": null,
   "metadata": {},
   "outputs": [],
   "source": []
  }
 ],
 "metadata": {
  "kernelspec": {
   "display_name": "Python 3",
   "language": "python",
   "name": "python3"
  },
  "language_info": {
   "codemirror_mode": {
    "name": "ipython",
    "version": 3
   },
   "file_extension": ".py",
   "mimetype": "text/x-python",
   "name": "python",
   "nbconvert_exporter": "python",
   "pygments_lexer": "ipython3",
   "version": "3.11.0"
  }
 },
 "nbformat": 4,
 "nbformat_minor": 2
}
